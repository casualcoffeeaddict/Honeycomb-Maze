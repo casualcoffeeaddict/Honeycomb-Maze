{
 "cells": [
  {
   "cell_type": "code",
   "execution_count": 13,
   "metadata": {
    "collapsed": true
   },
   "outputs": [],
   "source": [
    "import networkx as nx\n",
    "import matplotlib as plt"
   ]
  },
  {
   "cell_type": "markdown",
   "source": [
    "Create Graph"
   ],
   "metadata": {
    "collapsed": false
   }
  },
  {
   "cell_type": "code",
   "execution_count": 14,
   "outputs": [
    {
     "name": "stdout",
     "output_type": "stream",
     "text": [
      "[]\n"
     ]
    }
   ],
   "source": [
    "G = nx.Graph()\n",
    "print(G.nodes)"
   ],
   "metadata": {
    "collapsed": false,
    "pycharm": {
     "name": "#%%\n"
    }
   }
  },
  {
   "cell_type": "code",
   "execution_count": 15,
   "outputs": [
    {
     "name": "stdout",
     "output_type": "stream",
     "text": [
      "[(0, 0, 0), (1, 0, -1), (1, -1, 0), (0, -1, 1), (-1, 0, 1), (-1, 1, 0), (0, 1, -1)]\n"
     ]
    },
    {
     "data": {
      "text/plain": "<Figure size 432x288 with 1 Axes>",
      "image/png": "[encoded data removed]"
     },
     "metadata": {},
     "output_type": "display_data"
    }
   ],
   "source": [
    "node_list = [(0,0,0), (1, 0, -1), (1, -1, 0), (0, -1, 1), (-1, 0, 1), (-1, 1, 0), (0, 1, -1)]\n",
    "for node in node_list:\n",
    "    G.add_node(node)\n",
    "print(G.nodes)\n",
    "nx.draw_spring(G, with_labels=True)"
   ],
   "metadata": {
    "collapsed": false,
    "pycharm": {
     "name": "#%%\n"
    }
   }
  },
  {
   "cell_type": "code",
   "execution_count": 43,
   "outputs": [],
   "source": [
    "def node_generation(row, col):\n",
    "    \"\"\"Function for generating the correct (and correctly labeled nodes)\"\"\"\n",
    "    node_list = []\n",
    "    for x in range(row):\n",
    "        for y in range(col):\n",
    "            node_list.append((x, y, -(x+y)))\n",
    "    return node_list\n",
    "\n",
    "\n",
    "def add_nodes(node_list, graph):\n",
    "    for node in node_list:\n",
    "        graph.add_node(node)\n",
    "    # nx.draw_spring(graph, with_labels=True)\n",
    "    return graph\n",
    "\n",
    "\n",
    "def consecutive_positions(node):\n",
    "    # generate consecutive positions\n",
    "    inner_ring_vectors = [(1, 0, -1), (1, -1, 0), (0, -1, 1), (-1, 0, 1), (-1, 1, 0), (0, 1, -1)] # consecutive vectors\n",
    "    inner_ring_nodes = []\n",
    "    for inner_ring_vector in inner_ring_vectors:\n",
    "        # add each vector to the node\n",
    "       # print(node, inner_ring_vector)\n",
    "        consecutive_node = [\n",
    "            a_i + b_i for a_i, b_i in zip(node, inner_ring_vector)]\n",
    "       # print(consecutive_node)\n",
    "        # add it to the list\n",
    "\n",
    "        inner_ring_nodes.append(tuple(consecutive_node))\n",
    "\n",
    "    return inner_ring_nodes\n",
    "\n",
    "\n",
    "\n",
    "def find_consecutive_nodes(node, graph):\n",
    "    \"\"\"if consecutive_nodes are in the node list, then add them to list of edges that need to be joined together\"\"\"\n",
    "    edge_list = [] # list of edges that need to be joined\n",
    "\n",
    "    inner_ring_nodes = consecutive_positions(node) # list of positions consecutive to the nodes\n",
    "    print(inner_ring_nodes)\n",
    "    # if consecutive nodes are in the list of nodes in the graph\n",
    "    for inner_ring_node in inner_ring_nodes:\n",
    "        if inner_ring_node in graph.nodes:\n",
    "            edge_list.append(inner_ring_node)#\n",
    "        else:\n",
    "            print(f'the node, {inner_ring_node} was not added as it is not in the {graph}')\n",
    "\n",
    "    return edge_list\n",
    "\n",
    "def add_edges(edge_list, graph, node):\n",
    "    \"\"\"Add edges from edge list to the graph\"\"\"\n",
    "    for edge in edge_list:\n",
    "        graph.add_edge(node, edge)\n",
    "    # nx.draw_spring(graph, with_labels=True)\n",
    "    return graph\n"
   ],
   "metadata": {
    "collapsed": false,
    "pycharm": {
     "name": "#%%\n"
    }
   }
  },
  {
   "cell_type": "code",
   "execution_count": 95,
   "outputs": [
    {
     "name": "stdout",
     "output_type": "stream",
     "text": [
      "x1 0 x2 1\n",
      "start: 0\n",
      "y 0\n",
      "0 0 0\n",
      "1 0 -1\n",
      "start: 0\n",
      "y 1\n",
      "0 1 -1\n",
      "1 1 -2\n",
      "start: 0\n",
      "y 2\n",
      "0 2 -2\n",
      "1 2 -3\n",
      "start: 0\n",
      "y 3\n",
      "0 3 -3\n",
      "1 3 -4\n",
      "start: 0\n",
      "y 4\n",
      "0 4 -4\n",
      "1 4 -5\n",
      "x1 2 x2 3\n",
      "start: -1\n",
      "y -1\n",
      "2 -1 -1\n",
      "3 -1 -2\n",
      "start: -1\n",
      "y 0\n",
      "2 0 -2\n",
      "3 0 -3\n",
      "start: -1\n",
      "y 1\n",
      "2 1 -3\n",
      "3 1 -4\n",
      "start: -1\n",
      "y 2\n",
      "2 2 -4\n",
      "3 2 -5\n",
      "start: -1\n",
      "y 3\n",
      "2 3 -5\n",
      "3 3 -6\n"
     ]
    },
    {
     "data": {
      "text/plain": "[(0, 0, 0),\n (1, 0, -1),\n (0, 1, -1),\n (1, 1, -2),\n (0, 2, -2),\n (1, 2, -3),\n (0, 3, -3),\n (1, 3, -4),\n (0, 4, -4),\n (1, 4, -5),\n (2, -1, -1),\n (3, -1, -2),\n (2, 0, -2),\n (3, 0, -3),\n (2, 1, -3),\n (3, 1, -4),\n (2, 2, -4),\n (3, 2, -5),\n (2, 3, -5),\n (3, 3, -6)]"
     },
     "execution_count": 95,
     "metadata": {},
     "output_type": "execute_result"
    }
   ],
   "source": [
    "def node_generation_v2(row, col):\n",
    "\n",
    "    def pairwise(iterable): # function\n",
    "        \"s -> (s0, s1), (s2, s3), (s4, s5), ...\"\n",
    "        a = iter(iterable)\n",
    "        return zip(a, a)\n",
    "    start = 0\n",
    "    node_list = []\n",
    "    # for every 2 rows in the network until you fun out of rows to iterate through:\n",
    "    for x1, x2 in pairwise(list(range(row))): # for every 2 elements in the list\n",
    "        print('x1', x1, 'x2', x2)\n",
    "\n",
    "        for y in list(range(start, col+start, 1)): # for every y coordinate\n",
    "            print('start:', start)\n",
    "            print('y', y)\n",
    "            print(x1, y, -(x1+y))\n",
    "            print(x2, y, -(x2+y))\n",
    "            node_list.append((x1, y, -(x1+y)))\n",
    "            node_list.append((x2, y, -(x2+y)))\n",
    "        start = start - 1\n",
    "        # y goes up however it starts back 1 every time it reaches the top\n",
    "\n",
    "        # step back in the coordinate system 2\n",
    "    return node_list\n",
    "\n",
    "node_generation_v2(5, 5)"
   ],
   "metadata": {
    "collapsed": false,
    "pycharm": {
     "name": "#%%\n"
    }
   }
  },
  {
   "cell_type": "code",
   "execution_count": 96,
   "outputs": [
    {
     "name": "stdout",
     "output_type": "stream",
     "text": [
      "[0, -1, -2, -3, -4, -5, -6, -7, -8, -9]\n"
     ]
    }
   ],
   "source": [
    "print(list(range(0, -10, -1)))"
   ],
   "metadata": {
    "collapsed": false,
    "pycharm": {
     "name": "#%%\n"
    }
   }
  },
  {
   "cell_type": "code",
   "execution_count": 103,
   "outputs": [
    {
     "name": "stdout",
     "output_type": "stream",
     "text": [
      "x1 0 x2 1\n",
      "start: 0\n",
      "y 0\n",
      "0 0 0\n",
      "1 0 -1\n",
      "start: 0\n",
      "y 1\n",
      "0 1 -1\n",
      "1 1 -2\n",
      "start: 0\n",
      "y 2\n",
      "0 2 -2\n",
      "1 2 -3\n",
      "start: 0\n",
      "y 3\n",
      "0 3 -3\n",
      "1 3 -4\n",
      "x1 2 x2 3\n",
      "start: -1\n",
      "y -1\n",
      "2 -1 -1\n",
      "3 -1 -2\n",
      "start: -1\n",
      "y 0\n",
      "2 0 -2\n",
      "3 0 -3\n",
      "start: -1\n",
      "y 1\n",
      "2 1 -3\n",
      "3 1 -4\n",
      "start: -1\n",
      "y 2\n",
      "2 2 -4\n",
      "3 2 -5\n",
      "[(1, 0, -1), (1, -1, 0), (0, -1, 1), (-1, 0, 1), (-1, 1, 0), (0, 1, -1)]\n",
      "the node, (1, -1, 0) was not added as it is not in the Graph with 16 nodes and 0 edges\n",
      "the node, (0, -1, 1) was not added as it is not in the Graph with 16 nodes and 0 edges\n",
      "the node, (-1, 0, 1) was not added as it is not in the Graph with 16 nodes and 0 edges\n",
      "the node, (-1, 1, 0) was not added as it is not in the Graph with 16 nodes and 0 edges\n",
      "[(2, 0, -2), (2, -1, -1), (1, -1, 0), (0, 0, 0), (0, 1, -1), (1, 1, -2)]\n",
      "the node, (1, -1, 0) was not added as it is not in the Graph with 16 nodes and 2 edges\n",
      "[(1, 1, -2), (1, 0, -1), (0, 0, 0), (-1, 1, 0), (-1, 2, -1), (0, 2, -2)]\n",
      "the node, (-1, 1, 0) was not added as it is not in the Graph with 16 nodes and 6 edges\n",
      "the node, (-1, 2, -1) was not added as it is not in the Graph with 16 nodes and 6 edges\n",
      "[(2, 1, -3), (2, 0, -2), (1, 0, -1), (0, 1, -1), (0, 2, -2), (1, 2, -3)]\n",
      "[(1, 2, -3), (1, 1, -2), (0, 1, -1), (-1, 2, -1), (-1, 3, -2), (0, 3, -3)]\n",
      "the node, (-1, 2, -1) was not added as it is not in the Graph with 16 nodes and 12 edges\n",
      "the node, (-1, 3, -2) was not added as it is not in the Graph with 16 nodes and 12 edges\n",
      "[(2, 2, -4), (2, 1, -3), (1, 1, -2), (0, 2, -2), (0, 3, -3), (1, 3, -4)]\n",
      "[(1, 3, -4), (1, 2, -3), (0, 2, -2), (-1, 3, -2), (-1, 4, -3), (0, 4, -4)]\n",
      "the node, (-1, 3, -2) was not added as it is not in the Graph with 16 nodes and 18 edges\n",
      "the node, (-1, 4, -3) was not added as it is not in the Graph with 16 nodes and 18 edges\n",
      "the node, (0, 4, -4) was not added as it is not in the Graph with 16 nodes and 18 edges\n",
      "[(2, 3, -5), (2, 2, -4), (1, 2, -3), (0, 3, -3), (0, 4, -4), (1, 4, -5)]\n",
      "the node, (2, 3, -5) was not added as it is not in the Graph with 16 nodes and 19 edges\n",
      "the node, (0, 4, -4) was not added as it is not in the Graph with 16 nodes and 19 edges\n",
      "the node, (1, 4, -5) was not added as it is not in the Graph with 16 nodes and 19 edges\n",
      "[(3, -1, -2), (3, -2, -1), (2, -2, 0), (1, -1, 0), (1, 0, -1), (2, 0, -2)]\n",
      "the node, (3, -2, -1) was not added as it is not in the Graph with 16 nodes and 20 edges\n",
      "the node, (2, -2, 0) was not added as it is not in the Graph with 16 nodes and 20 edges\n",
      "the node, (1, -1, 0) was not added as it is not in the Graph with 16 nodes and 20 edges\n",
      "[(4, -1, -3), (4, -2, -2), (3, -2, -1), (2, -1, -1), (2, 0, -2), (3, 0, -3)]\n",
      "the node, (4, -1, -3) was not added as it is not in the Graph with 16 nodes and 22 edges\n",
      "the node, (4, -2, -2) was not added as it is not in the Graph with 16 nodes and 22 edges\n",
      "the node, (3, -2, -1) was not added as it is not in the Graph with 16 nodes and 22 edges\n",
      "[(3, 0, -3), (3, -1, -2), (2, -1, -1), (1, 0, -1), (1, 1, -2), (2, 1, -3)]\n",
      "[(4, 0, -4), (4, -1, -3), (3, -1, -2), (2, 0, -2), (2, 1, -3), (3, 1, -4)]\n",
      "the node, (4, 0, -4) was not added as it is not in the Graph with 16 nodes and 26 edges\n",
      "the node, (4, -1, -3) was not added as it is not in the Graph with 16 nodes and 26 edges\n",
      "[(3, 1, -4), (3, 0, -3), (2, 0, -2), (1, 1, -2), (1, 2, -3), (2, 2, -4)]\n",
      "[(4, 1, -5), (4, 0, -4), (3, 0, -3), (2, 1, -3), (2, 2, -4), (3, 2, -5)]\n",
      "the node, (4, 1, -5) was not added as it is not in the Graph with 16 nodes and 30 edges\n",
      "the node, (4, 0, -4) was not added as it is not in the Graph with 16 nodes and 30 edges\n",
      "[(3, 2, -5), (3, 1, -4), (2, 1, -3), (1, 2, -3), (1, 3, -4), (2, 3, -5)]\n",
      "the node, (2, 3, -5) was not added as it is not in the Graph with 16 nodes and 32 edges\n",
      "[(4, 2, -6), (4, 1, -5), (3, 1, -4), (2, 2, -4), (2, 3, -5), (3, 3, -6)]\n",
      "the node, (4, 2, -6) was not added as it is not in the Graph with 16 nodes and 33 edges\n",
      "the node, (4, 1, -5) was not added as it is not in the Graph with 16 nodes and 33 edges\n",
      "the node, (2, 3, -5) was not added as it is not in the Graph with 16 nodes and 33 edges\n",
      "the node, (3, 3, -6) was not added as it is not in the Graph with 16 nodes and 33 edges\n"
     ]
    },
    {
     "data": {
      "text/plain": "<Figure size 432x288 with 1 Axes>",
      "image/png": "[encoded data removed]"
     },
     "metadata": {},
     "output_type": "display_data"
    }
   ],
   "source": [
    "I = nx.Graph() # make graph\n",
    "def make_network(row, col, graph):\n",
    "    # create coordinates\n",
    "    node_list = node_generation_v2(row, col)\n",
    "\n",
    "    # add nodes to list\n",
    "    add_nodes(node_list, graph)\n",
    "\n",
    "    for node in graph.nodes:\n",
    "        # for each node\n",
    "        edge_list = find_consecutive_nodes(node, graph) # find the set of nodes that are consecutive and in the graph\n",
    "        add_edges(edge_list, graph, node)\n",
    "\n",
    "    nx.draw_spring(graph, with_labels=True) # draw graph\n",
    "\n",
    "\n",
    "make_network(4, 4, I)"
   ],
   "metadata": {
    "collapsed": false,
    "pycharm": {
     "name": "#%%\n"
    }
   }
  },
  {
   "cell_type": "code",
   "execution_count": 115,
   "outputs": [
    {
     "ename": "TypeError",
     "evalue": "node_generation() missing 1 required positional argument: 'offset'",
     "output_type": "error",
     "traceback": [
      "\u001B[1;31m---------------------------------------------------------------------------\u001B[0m",
      "\u001B[1;31mTypeError\u001B[0m                                 Traceback (most recent call last)",
      "Input \u001B[1;32mIn [115]\u001B[0m, in \u001B[0;36m<module>\u001B[1;34m\u001B[0m\n\u001B[0;32m      1\u001B[0m H \u001B[38;5;241m=\u001B[39m nx\u001B[38;5;241m.\u001B[39mGraph()\n\u001B[0;32m      2\u001B[0m node \u001B[38;5;241m=\u001B[39m (\u001B[38;5;241m0\u001B[39m,\u001B[38;5;241m1\u001B[39m,\u001B[38;5;241m-\u001B[39m\u001B[38;5;241m1\u001B[39m)\n\u001B[1;32m----> 5\u001B[0m node_list \u001B[38;5;241m=\u001B[39m \u001B[43mnode_generation\u001B[49m\u001B[43m(\u001B[49m\u001B[38;5;241;43m3\u001B[39;49m\u001B[43m,\u001B[49m\u001B[43m \u001B[49m\u001B[38;5;241;43m3\u001B[39;49m\u001B[43m)\u001B[49m\n\u001B[0;32m      6\u001B[0m \u001B[38;5;28mprint\u001B[39m(\u001B[38;5;124m'\u001B[39m\u001B[38;5;124mnode list\u001B[39m\u001B[38;5;124m'\u001B[39m, node_list)\n\u001B[0;32m      7\u001B[0m add_nodes(node_list, H)\n",
      "\u001B[1;31mTypeError\u001B[0m: node_generation() missing 1 required positional argument: 'offset'"
     ]
    }
   ],
   "source": [
    "    H = nx.Graph()\n",
    "node = (0,1,-1)\n",
    "\n",
    "\n",
    "node_list = node_generation(3, 3)\n",
    "print('node list', node_list)\n",
    "add_nodes(node_list, H)\n",
    "\n",
    "\n",
    "edge_list = find_consecutive_nodes(node, H)\n",
    "print(edge_list)\n",
    "\n",
    "add_edges(edge_list, H, node)\n",
    "\n",
    "# for node in node_list:\n",
    "#     edge_list = find_consecutive_nodes(node, H)\n",
    "#     print(edge_list)\n",
    "#     add_edges(edge_list, H, node)\n",
    "# consecutive_positions((0,2,-2))"
   ],
   "metadata": {
    "collapsed": false,
    "pycharm": {
     "name": "#%%\n"
    }
   }
  },
  {
   "cell_type": "code",
   "execution_count": 17,
   "outputs": [
    {
     "data": {
      "text/plain": "<Figure size 432x288 with 1 Axes>",
      "image/png": "[encoded data removed]"
     },
     "metadata": {},
     "output_type": "display_data"
    }
   ],
   "source": [
    "# edges function connects every node to the correspoinding node on its own inner ring (function for getting inner ring stuff?)\n",
    "\n",
    "for node in node_list[1:]:\n",
    "    G.add_edge(node_list[0], node)\n",
    "nx.draw_spring(G, with_labels=True)"
   ],
   "metadata": {
    "collapsed": false,
    "pycharm": {
     "name": "#%%\n"
    }
   }
  },
  {
   "cell_type": "code",
   "execution_count": null,
   "outputs": [],
   "source": [],
   "metadata": {
    "collapsed": false,
    "pycharm": {
     "name": "#%%\n"
    }
   }
  }
 ],
 "metadata": {
  "kernelspec": {
   "display_name": "Python 3",
   "language": "python",
   "name": "python3"
  },
  "language_info": {
   "codemirror_mode": {
    "name": "ipython",
    "version": 2
   },
   "file_extension": ".py",
   "mimetype": "text/x-python",
   "name": "python",
   "nbconvert_exporter": "python",
   "pygments_lexer": "ipython2",
   "version": "2.7.6"
  }
 },
 "nbformat": 4,
 "nbformat_minor": 0
}