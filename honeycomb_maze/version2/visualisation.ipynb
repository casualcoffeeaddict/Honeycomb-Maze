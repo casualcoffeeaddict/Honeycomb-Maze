{
 "cells": [
  {
   "cell_type": "code",
   "execution_count": null,
   "metadata": {
    "collapsed": true
   },
   "outputs": [],
   "source": [
    "from main2 import *\n",
    "import matplotlib as plt\n",
    "import networkx as nx"
   ]
  },
  {
   "cell_type": "code",
   "execution_count": 6,
   "outputs": [],
   "source": [
    "from animal2 import *\n",
    "from maze2 import *\n",
    "from robot2 import *\n",
    "\n",
    "# INSTANTIATE OBJECTS\n",
    "# Instantiate maze\n",
    "hm = HexagonMaze(column_number=10, row_number=11)\n",
    "# Instantiate robots\n",
    "robot1 = PlatformRobot(4, 6, -10, 1, 'robot1')\n",
    "robot2 = PlatformRobot(4,5,-9, 1, 'robot2')\n",
    "robot3 = PlatformRobot(3, 6, -9, 1, 'robot3')\n",
    "\n",
    "# Instantiate animal with its maze\n",
    "mouse = Animal(hm)\n",
    "\n",
    "# Set the maze (and add robots to maze class)\n",
    "robot1.set_maze(hm)\n",
    "robot2.set_maze(hm)\n",
    "robot3.set_maze(hm)\n",
    "\n",
    "# Set initial animal robot - this should be automated\n",
    "robot1.set_animal_robot(True)\n",
    "\n",
    "mouse.set_maze(hm)\n",
    "mouse.set_animal_position()"
   ],
   "metadata": {
    "collapsed": false,
    "pycharm": {
     "name": "#%%\n"
    }
   }
  },
  {
   "cell_type": "code",
   "execution_count": 22,
   "outputs": [
    {
     "name": "stdout",
     "output_type": "stream",
     "text": [
      "ERROR: A node that is not in the network is trying to be removed\n",
      "ERROR: A node that is not in the network is trying to be removed\n",
      "ERROR: A node that is not in the network is trying to be removed\n",
      "ERROR: A node that is not in the network is trying to be removed\n",
      "ERROR: A node that is not in the network is trying to be removed\n",
      "ERROR: A node that is not in the network is trying to be removed\n",
      "ERROR: A node that is not in the network is trying to be removed\n",
      "ERROR: A node that is not in the network is trying to be removed\n",
      "ERROR: A node that is not in the network is trying to be removed\n",
      "ERROR: A node that is not in the network is trying to be removed\n",
      "ERROR: A node that is not in the network is trying to be removed\n",
      "ERROR: A node that is not in the network is trying to be removed\n",
      "ERROR: A node that is not in the network is trying to be removed\n",
      "ERROR: A node that is not in the network is trying to be removed\n",
      "ERROR: A node that is not in the network is trying to be removed\n",
      "ERROR: A node that is not in the network is trying to be removed\n",
      "The positions consecutive to any other robot have been removed from the temp_movement_network\n",
      "INFO: Robot position vector not inside choice of target positions\n",
      "INFO: Robot position vector not inside choice of target positions\n",
      "[[5, 6, -11], [5, 5, -10], [4, 5, -9], [3, 7, -10], [4, 7, -11]]\n",
      "-1 0 1\n",
      "target position (5, 6, -11)\n",
      "target relative position 3\n"
     ]
    },
    {
     "ename": "AttributeError",
     "evalue": "'dict' object has no attribute 'is_directed'",
     "output_type": "error",
     "traceback": [
      "\u001B[1;31m---------------------------------------------------------------------------\u001B[0m",
      "\u001B[1;31mAttributeError\u001B[0m                            Traceback (most recent call last)",
      "Input \u001B[1;32mIn [22]\u001B[0m, in \u001B[0;36m<module>\u001B[1;34m\u001B[0m\n\u001B[0;32m      6\u001B[0m hm\u001B[38;5;241m.\u001B[39mget_pathfinding_target(robot2)\n\u001B[0;32m      8\u001B[0m pos \u001B[38;5;241m=\u001B[39m nx\u001B[38;5;241m.\u001B[39mplanar_layout(hm\u001B[38;5;241m.\u001B[39mmovement_network)\n\u001B[1;32m----> 9\u001B[0m \u001B[43mnx\u001B[49m\u001B[38;5;241;43m.\u001B[39;49m\u001B[43mdraw\u001B[49m\u001B[43m(\u001B[49m\u001B[43mpos\u001B[49m\u001B[43m)\u001B[49m\n",
      "File \u001B[1;32mc:\\users\\comme\\appdata\\local\\programs\\python\\python39\\lib\\site-packages\\networkx\\drawing\\nx_pylab.py:121\u001B[0m, in \u001B[0;36mdraw\u001B[1;34m(G, pos, ax, **kwds)\u001B[0m\n\u001B[0;32m    118\u001B[0m \u001B[38;5;28;01mif\u001B[39;00m \u001B[38;5;124m\"\u001B[39m\u001B[38;5;124mwith_labels\u001B[39m\u001B[38;5;124m\"\u001B[39m \u001B[38;5;129;01mnot\u001B[39;00m \u001B[38;5;129;01min\u001B[39;00m kwds:\n\u001B[0;32m    119\u001B[0m     kwds[\u001B[38;5;124m\"\u001B[39m\u001B[38;5;124mwith_labels\u001B[39m\u001B[38;5;124m\"\u001B[39m] \u001B[38;5;241m=\u001B[39m \u001B[38;5;124m\"\u001B[39m\u001B[38;5;124mlabels\u001B[39m\u001B[38;5;124m\"\u001B[39m \u001B[38;5;129;01min\u001B[39;00m kwds\n\u001B[1;32m--> 121\u001B[0m draw_networkx(G, pos\u001B[38;5;241m=\u001B[39mpos, ax\u001B[38;5;241m=\u001B[39max, \u001B[38;5;241m*\u001B[39m\u001B[38;5;241m*\u001B[39mkwds)\n\u001B[0;32m    122\u001B[0m ax\u001B[38;5;241m.\u001B[39mset_axis_off()\n\u001B[0;32m    123\u001B[0m plt\u001B[38;5;241m.\u001B[39mdraw_if_interactive()\n",
      "File \u001B[1;32mc:\\users\\comme\\appdata\\local\\programs\\python\\python39\\lib\\site-packages\\networkx\\drawing\\nx_pylab.py:334\u001B[0m, in \u001B[0;36mdraw_networkx\u001B[1;34m(G, pos, arrows, with_labels, **kwds)\u001B[0m\n\u001B[0;32m    331\u001B[0m     pos \u001B[38;5;241m=\u001B[39m nx\u001B[38;5;241m.\u001B[39mdrawing\u001B[38;5;241m.\u001B[39mspring_layout(G)  \u001B[38;5;66;03m# default to spring layout\u001B[39;00m\n\u001B[0;32m    333\u001B[0m draw_networkx_nodes(G, pos, \u001B[38;5;241m*\u001B[39m\u001B[38;5;241m*\u001B[39mnode_kwds)\n\u001B[1;32m--> 334\u001B[0m draw_networkx_edges(G, pos, arrows\u001B[38;5;241m=\u001B[39marrows, \u001B[38;5;241m*\u001B[39m\u001B[38;5;241m*\u001B[39medge_kwds)\n\u001B[0;32m    335\u001B[0m \u001B[38;5;28;01mif\u001B[39;00m with_labels:\n\u001B[0;32m    336\u001B[0m     draw_networkx_labels(G, pos, \u001B[38;5;241m*\u001B[39m\u001B[38;5;241m*\u001B[39mlabel_kwds)\n",
      "File \u001B[1;32mc:\\users\\comme\\appdata\\local\\programs\\python\\python39\\lib\\site-packages\\networkx\\drawing\\nx_pylab.py:675\u001B[0m, in \u001B[0;36mdraw_networkx_edges\u001B[1;34m(G, pos, edgelist, width, edge_color, style, alpha, arrowstyle, arrowsize, edge_cmap, edge_vmin, edge_vmax, ax, arrows, label, node_size, nodelist, node_shape, connectionstyle, min_source_margin, min_target_margin)\u001B[0m\n\u001B[0;32m    669\u001B[0m \u001B[38;5;28;01mimport\u001B[39;00m \u001B[38;5;21;01mmatplotlib\u001B[39;00m\u001B[38;5;21;01m.\u001B[39;00m\u001B[38;5;21;01mpyplot\u001B[39;00m \u001B[38;5;28;01mas\u001B[39;00m \u001B[38;5;21;01mplt\u001B[39;00m\n\u001B[0;32m    671\u001B[0m \u001B[38;5;66;03m# The default behavior is to use LineCollection to draw edges for\u001B[39;00m\n\u001B[0;32m    672\u001B[0m \u001B[38;5;66;03m# undirected graphs (for performance reasons) and use FancyArrowPatches\u001B[39;00m\n\u001B[0;32m    673\u001B[0m \u001B[38;5;66;03m# for directed graphs.\u001B[39;00m\n\u001B[0;32m    674\u001B[0m \u001B[38;5;66;03m# The `arrows` keyword can be used to override the default behavior\u001B[39;00m\n\u001B[1;32m--> 675\u001B[0m use_linecollection \u001B[38;5;241m=\u001B[39m \u001B[38;5;129;01mnot\u001B[39;00m \u001B[43mG\u001B[49m\u001B[38;5;241;43m.\u001B[39;49m\u001B[43mis_directed\u001B[49m()\n\u001B[0;32m    676\u001B[0m \u001B[38;5;28;01mif\u001B[39;00m arrows \u001B[38;5;129;01min\u001B[39;00m (\u001B[38;5;28;01mTrue\u001B[39;00m, \u001B[38;5;28;01mFalse\u001B[39;00m):\n\u001B[0;32m    677\u001B[0m     use_linecollection \u001B[38;5;241m=\u001B[39m \u001B[38;5;129;01mnot\u001B[39;00m arrows\n",
      "\u001B[1;31mAttributeError\u001B[0m: 'dict' object has no attribute 'is_directed'"
     ]
    },
    {
     "data": {
      "text/plain": "<Figure size 432x288 with 1 Axes>",
      "image/png": "[encoded data removed]"
     },
     "metadata": {},
     "output_type": "display_data"
    }
   ],
   "source": [
    "from main2 import *\n",
    "\n",
    "\n",
    "hm.make_temp_movement_network(),\n",
    "robot2.set_target_position(),\n",
    "hm.get_pathfinding_target(robot2)\n",
    "\n",
    "pos = nx.planar_layout(hm.movement_network)\n",
    "nx.draw(pos)\n",
    "# nx.draw_spring(hm.temp_movement_network, with_labels=True)"
   ],
   "metadata": {
    "collapsed": false,
    "pycharm": {
     "name": "#%%\n"
    }
   }
  },
  {
   "cell_type": "code",
   "execution_count": null,
   "outputs": [],
   "source": [],
   "metadata": {
    "collapsed": false,
    "pycharm": {
     "name": "#%%\n"
    }
   }
  }
 ],
 "metadata": {
  "kernelspec": {
   "display_name": "Python 3",
   "language": "python",
   "name": "python3"
  },
  "language_info": {
   "codemirror_mode": {
    "name": "ipython",
    "version": 2
   },
   "file_extension": ".py",
   "mimetype": "text/x-python",
   "name": "python",
   "nbconvert_exporter": "python",
   "pygments_lexer": "ipython2",
   "version": "2.7.6"
  }
 },
 "nbformat": 4,
 "nbformat_minor": 0
}